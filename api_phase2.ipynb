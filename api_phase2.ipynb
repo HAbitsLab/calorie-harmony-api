{
 "cells": [
  {
   "cell_type": "code",
   "execution_count": null,
   "id": "e63f6e1d",
   "metadata": {},
   "outputs": [],
   "source": []
  },
  {
   "cell_type": "code",
   "execution_count": null,
   "id": "63896821",
   "metadata": {},
   "outputs": [],
   "source": [
    "import pandas as pd\n",
    "import numpy as np\n",
    "import warnings\n",
    "from xgboost import XGBClassifier\n",
    "import joblib\n",
    "from app.util import time_parameters, process_wrist, get_freq_intensity, get_rmssd, get_train_data, extract_features, resample\n",
    "warnings.filterwarnings(\"ignore\")"
   ]
  },
  {
   "cell_type": "code",
   "execution_count": null,
   "id": "9b31f63f",
   "metadata": {},
   "outputs": [],
   "source": []
  },
  {
   "cell_type": "code",
   "execution_count": null,
   "id": "237e9846",
   "metadata": {},
   "outputs": [],
   "source": [
    "# Load pretrained model\n",
    "#classification model\n",
    "model_classification = XGBClassifier()\n",
    "model_classification.load_model(\"./app/classification_model.json\")\n",
    "# regression model\n",
    "loaded_rf = joblib.load(\"./app/regression_model.joblib\")"
   ]
  },
  {
   "cell_type": "code",
   "execution_count": null,
   "id": "fee299d3",
   "metadata": {},
   "outputs": [],
   "source": []
  },
  {
   "cell_type": "code",
   "execution_count": null,
   "id": "9c0ada6d",
   "metadata": {},
   "outputs": [],
   "source": [
    "# read csv file\n",
    "df_acc_raw = pd.read_csv('./data/accelerometer.csv')\n",
    "df_gyro_raw = pd.read_csv('./data/gyroscope.csv')\n",
    "\n",
    "# resample input data\n",
    "df_acc_resampled = resample(df_acc_raw[['Time','accX','accY','accZ']], 'Time', 20)\n",
    "df_gyro_resampled = resample(df_gyro_raw[['Time','rotX','rotY','rotZ']], 'Time', 20)\n",
    "\n",
    "# add datetime from Unix timestamp\n",
    "df_acc = process_wrist(df_acc_resampled)\n",
    "df_gyro = process_wrist(df_gyro_resampled)\n",
    "\n",
    "# normalize each column to match the scale from original data\n",
    "targets = ['accX', 'accY', 'accZ']\n",
    "min_max = {'accX':[38.03060682003315, -33.763857951531044],\n",
    "           'accY':[34.77019433156978, -43.30149280531167],\n",
    "           'accZ':[37.98169060088745, -36.9844767541086]}\n",
    "\n",
    "for each_col in targets:\n",
    "    max_old = np.max(df_acc[each_col])\n",
    "    min_old = np.min(df_acc[each_col])\n",
    "    value = df_acc[each_col]\n",
    "    max_acc = min_max[each_col][0]\n",
    "    min_acc = min_max[each_col][1]\n",
    "    df_acc[each_col] = (max_acc-min_acc)/(max_old-min_old)*(value-max_old)+max_acc\n",
    "    \n",
    "# segmentation and feature extraction\n",
    "st_ceil, et_floor = time_parameters(df_gyro) # get start and end time of gyroscope \n",
    "\n",
    "window_size = 60\n",
    "minute_wrist = []\n",
    "l_intensity_freq = []\n",
    "l_intensity_rmssd_l1 = []\n",
    "data_training = []\n",
    "\n",
    "start_time = st_ceil\n",
    "\n",
    "# Examine each minute\n",
    "for i in range(int((et_floor - st_ceil).seconds / 60)):\n",
    "    minute_wrist.append(start_time)\n",
    "    end_time = start_time + pd.DateOffset(minutes=1)\n",
    "\n",
    "    temp = df_acc.loc[(df_acc['Datetime'] >= start_time) & (df_acc['Datetime'] < end_time)].reset_index(drop=True)\n",
    "    l_intensity_freq.append(get_freq_intensity(temp, 100, 1, False))\n",
    "    l_intensity_rmssd_l1.append(get_rmssd(temp, norm = 'l1'))\n",
    "    \n",
    "    data_training.append(get_train_data(df_gyro, start_time, window_size, 'gyro') + get_train_data(df_acc, start_time, window_size, 'acc'))\n",
    "    start_time += pd.DateOffset(minutes=1)\n",
    "    \n",
    "        \n",
    "for i in range(len(data_training)):\n",
    "        for j in range(6):\n",
    "            if(data_training[i][j].shape[0] != window_size * 20):\n",
    "                s_temp = pd.Series([0]*int(window_size * 20-data_training[i][j].shape[0]))\n",
    "                data_training[i][j] = data_training[i][j].append(s_temp, ignore_index=True)\n",
    "\n",
    "np_training = np.array(data_training)\n",
    "data_train = extract_features(np_training)\n",
    "\n",
    "estimation = []\n",
    "# 1st stage classification\n",
    "classification = model_classification.predict(data_train)\n",
    "\n",
    "# Need Demographic info\n",
    "gender = 1.0\n",
    "age = 34\n",
    "BMI = 36\n",
    "\n",
    "# 2nd stage regression\n",
    "for i in range(len(classification)):\n",
    "    if(classification[i] == 0):\n",
    "        estimation.append(1.0)\n",
    "    else:\n",
    "        # complete feature for regression model (TODO)\n",
    "        # 'gender', 'age', 'BMI', 'Intensity (Freq)', 'gender_age','gender_BMI','age_BMI','age_gender_BMI', 'Intensity (RMSSD_l1)'\n",
    "        feature_complete = [gender, age, BMI] + [l_intensity_freq[i]] + [gender*age, gender*BMI, age*BMI, age*gender*BMI] + [l_intensity_rmssd_l1[i]]\n",
    "        estimation.append(loaded_rf.predict(np.array(feature_complete).reshape(1,9))[0])"
   ]
  },
  {
   "cell_type": "code",
   "execution_count": null,
   "id": "dbe8e750",
   "metadata": {},
   "outputs": [],
   "source": [
    "pd.DataFrame({'timstamp':minute_wrist, 'mets':estimation})"
   ]
  },
  {
   "cell_type": "code",
   "execution_count": null,
   "outputs": [],
   "source": [],
   "metadata": {
    "collapsed": false
   },
   "id": "2da91929b21675af"
  }
 ],
 "metadata": {
  "kernelspec": {
   "display_name": "Python 3 (ipykernel)",
   "language": "python",
   "name": "python3"
  },
  "language_info": {
   "codemirror_mode": {
    "name": "ipython",
    "version": 3
   },
   "file_extension": ".py",
   "mimetype": "text/x-python",
   "name": "python",
   "nbconvert_exporter": "python",
   "pygments_lexer": "ipython3",
   "version": "3.10.12"
  }
 },
 "nbformat": 4,
 "nbformat_minor": 5
}
